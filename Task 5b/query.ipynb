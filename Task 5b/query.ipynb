{
 "cells": [
  {
   "cell_type": "code",
   "execution_count": 32,
   "metadata": {},
   "outputs": [],
   "source": [
    "import psycopg2\n",
    "\n",
    "connection = psycopg2.connect(user = \"postgres\",\n",
    "                             # password = \"NEW_PASSWORD\",\n",
    "                              host = \"localhost\",\n",
    "                              port = 5432,\n",
    "                              database = \"db\")"
   ]
  },
  {
   "cell_type": "code",
   "execution_count": 33,
   "metadata": {},
   "outputs": [],
   "source": [
    "cursor = connection.cursor()"
   ]
  },
  {
   "cell_type": "code",
   "execution_count": 34,
   "metadata": {},
   "outputs": [
    {
     "name": "stdout",
     "output_type": "stream",
     "text": [
      "ACTOR_ID:    1\n",
      "FIRST_NAME:    PENELOPE\n",
      "LAST_NAME:     GUINESS\n",
      "TITLE:    ACADEMY DINOSAUR\n",
      "DESCRIPTION:    A Epic Drama of a Feminist And a Mad Scientist who must Battle a Teacher in The Canadian Rockies\n",
      "RELEASE_YEAR:    2006 \n",
      "\n",
      "ACTOR_ID:    1\n",
      "FIRST_NAME:    PENELOPE\n",
      "LAST_NAME:     GUINESS\n",
      "TITLE:    ANACONDA CONFESSIONS\n",
      "DESCRIPTION:    A Lacklusture Display of a Dentist And a Dentist who must Fight a Girl in Australia\n",
      "RELEASE_YEAR:    2006 \n",
      "\n",
      "ACTOR_ID:    1\n",
      "FIRST_NAME:    PENELOPE\n",
      "LAST_NAME:     GUINESS\n",
      "TITLE:    ANGELS LIFE\n",
      "DESCRIPTION:    A Thoughtful Display of a Woman And a Astronaut who must Battle a Robot in Berlin\n",
      "RELEASE_YEAR:    2006 \n",
      "\n",
      "ACTOR_ID:    1\n",
      "FIRST_NAME:    PENELOPE\n",
      "LAST_NAME:     GUINESS\n",
      "TITLE:    BULWORTH COMMANDMENTS\n",
      "DESCRIPTION:    A Amazing Display of a Mad Cow And a Pioneer who must Redeem a Sumo Wrestler in The Outback\n",
      "RELEASE_YEAR:    2006 \n",
      "\n",
      "ACTOR_ID:    1\n",
      "FIRST_NAME:    PENELOPE\n",
      "LAST_NAME:     GUINESS\n",
      "TITLE:    CHEAPER CLYDE\n",
      "DESCRIPTION:    A Emotional Character Study of a Pioneer And a Girl who must Discover a Dog in Ancient Japan\n",
      "RELEASE_YEAR:    2006 \n",
      "\n",
      "ACTOR_ID:    1\n",
      "FIRST_NAME:    PENELOPE\n",
      "LAST_NAME:     GUINESS\n",
      "TITLE:    COLOR PHILADELPHIA\n",
      "DESCRIPTION:    A Thoughtful Panorama of a Car And a Crocodile who must Sink a Monkey in The Sahara Desert\n",
      "RELEASE_YEAR:    2006 \n",
      "\n",
      "ACTOR_ID:    1\n",
      "FIRST_NAME:    PENELOPE\n",
      "LAST_NAME:     GUINESS\n",
      "TITLE:    ELEPHANT TROJAN\n",
      "DESCRIPTION:    A Beautiful Panorama of a Lumberjack And a Forensic Psychologist who must Overcome a Frisbee in A Baloon\n",
      "RELEASE_YEAR:    2006 \n",
      "\n",
      "ACTOR_ID:    1\n",
      "FIRST_NAME:    PENELOPE\n",
      "LAST_NAME:     GUINESS\n",
      "TITLE:    GLEAMING JAWBREAKER\n",
      "DESCRIPTION:    A Amazing Display of a Composer And a Forensic Psychologist who must Discover a Car in The Canadian Rockies\n",
      "RELEASE_YEAR:    2006 \n",
      "\n",
      "ACTOR_ID:    1\n",
      "FIRST_NAME:    PENELOPE\n",
      "LAST_NAME:     GUINESS\n",
      "TITLE:    HUMAN GRAFFITI\n",
      "DESCRIPTION:    A Beautiful Reflection of a Womanizer And a Sumo Wrestler who must Chase a Database Administrator in The Gulf of Mexico\n",
      "RELEASE_YEAR:    2006 \n",
      "\n",
      "ACTOR_ID:    1\n",
      "FIRST_NAME:    PENELOPE\n",
      "LAST_NAME:     GUINESS\n",
      "TITLE:    KING EVOLUTION\n",
      "DESCRIPTION:    A Action-Packed Tale of a Boy And a Lumberjack who must Chase a Madman in A Baloon\n",
      "RELEASE_YEAR:    2006 \n",
      "\n"
     ]
    }
   ],
   "source": [
    "cursor.execute(\"\"\"SELECT actor.ACTOR_ID,FIRST_NAME,LAST_NAME,TITLE,DESCRIPTION,RELEASE_YEAR \\\n",
    "    FROM film \\\n",
    "        INNER JOIN film_actor on film.film_id = film_actor.film_id\\\n",
    "        INNER JOIN actor on film_actor.actor_id = actor.actor_id; \"\"\")\n",
    "rows = cursor.fetchmany(10)\n",
    "for row in rows:\n",
    "    print(\"ACTOR_ID:   \", row[0])\n",
    "    print(\"FIRST_NAME:   \", row[1])\n",
    "    print(\"LAST_NAME:    \", row[2])\n",
    "    print(\"TITLE:   \", row[3])\n",
    "    print(\"DESCRIPTION:   \", row[4])\n",
    "    print(\"RELEASE_YEAR:   \", row[5], \"\\n\")"
   ]
  },
  {
   "cell_type": "code",
   "execution_count": null,
   "metadata": {},
   "outputs": [],
   "source": []
  },
  {
   "cell_type": "code",
   "execution_count": null,
   "metadata": {},
   "outputs": [],
   "source": []
  },
  {
   "cell_type": "code",
   "execution_count": null,
   "metadata": {},
   "outputs": [],
   "source": []
  }
 ],
 "metadata": {
  "kernelspec": {
   "display_name": "Python 3",
   "language": "python",
   "name": "python3"
  },
  "language_info": {
   "codemirror_mode": {
    "name": "ipython",
    "version": 3
   },
   "file_extension": ".py",
   "mimetype": "text/x-python",
   "name": "python",
   "nbconvert_exporter": "python",
   "pygments_lexer": "ipython3",
   "version": "3.7.6"
  }
 },
 "nbformat": 4,
 "nbformat_minor": 4
}
